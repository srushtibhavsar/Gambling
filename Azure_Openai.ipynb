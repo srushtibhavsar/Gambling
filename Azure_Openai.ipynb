{
  "nbformat": 4,
  "nbformat_minor": 0,
  "metadata": {
    "colab": {
      "provenance": [],
      "gpuType": "T4",
      "authorship_tag": "ABX9TyMXVNxtUfrl1/ECPS1Z91tK",
      "include_colab_link": true
    },
    "kernelspec": {
      "name": "python3",
      "display_name": "Python 3"
    },
    "language_info": {
      "name": "python"
    },
    "accelerator": "GPU"
  },
  "cells": [
    {
      "cell_type": "markdown",
      "metadata": {
        "id": "view-in-github",
        "colab_type": "text"
      },
      "source": [
        "<a href=\"https://colab.research.google.com/github/srushtibhavsar/Gambling/blob/main/Azure_Openai.ipynb\" target=\"_parent\"><img src=\"https://colab.research.google.com/assets/colab-badge.svg\" alt=\"Open In Colab\"/></a>"
      ]
    },
    {
      "cell_type": "code",
      "source": [
        "!pip install openai==1.13.3 -qqq\n"
      ],
      "metadata": {
        "colab": {
          "base_uri": "https://localhost:8080/"
        },
        "id": "gYjo6TGsxFc7",
        "outputId": "2f456dfe-e260-4034-ec76-ba00c0664dce"
      },
      "execution_count": 1,
      "outputs": [
        {
          "output_type": "stream",
          "name": "stdout",
          "text": [
            "\u001b[?25l   \u001b[90m━━━━━━━━━━━━━━━━━━━━━━━━━━━━━━━━━━━━━━━━\u001b[0m \u001b[32m0.0/227.4 kB\u001b[0m \u001b[31m?\u001b[0m eta \u001b[36m-:--:--\u001b[0m\r\u001b[2K   \u001b[90m━━━━━━━━━━━━━━━━━━━━━━━━━━━━━━━━━━━━━━━━\u001b[0m \u001b[32m227.4/227.4 kB\u001b[0m \u001b[31m8.5 MB/s\u001b[0m eta \u001b[36m0:00:00\u001b[0m\n",
            "\u001b[?25h\u001b[?25l   \u001b[90m━━━━━━━━━━━━━━━━━━━━━━━━━━━━━━━━━━━━━━━━\u001b[0m \u001b[32m0.0/75.6 kB\u001b[0m \u001b[31m?\u001b[0m eta \u001b[36m-:--:--\u001b[0m\r\u001b[2K   \u001b[90m━━━━━━━━━━━━━━━━━━━━━━━━━━━━━━━━━━━━━━━━\u001b[0m \u001b[32m75.6/75.6 kB\u001b[0m \u001b[31m5.8 MB/s\u001b[0m eta \u001b[36m0:00:00\u001b[0m\n",
            "\u001b[?25h\u001b[?25l   \u001b[90m━━━━━━━━━━━━━━━━━━━━━━━━━━━━━━━━━━━━━━━━\u001b[0m \u001b[32m0.0/77.9 kB\u001b[0m \u001b[31m?\u001b[0m eta \u001b[36m-:--:--\u001b[0m\r\u001b[2K   \u001b[90m━━━━━━━━━━━━━━━━━━━━━━━━━━━━━━━━━━━━━━━━\u001b[0m \u001b[32m77.9/77.9 kB\u001b[0m \u001b[31m5.2 MB/s\u001b[0m eta \u001b[36m0:00:00\u001b[0m\n",
            "\u001b[?25h\u001b[?25l   \u001b[90m━━━━━━━━━━━━━━━━━━━━━━━━━━━━━━━━━━━━━━━━\u001b[0m \u001b[32m0.0/58.3 kB\u001b[0m \u001b[31m?\u001b[0m eta \u001b[36m-:--:--\u001b[0m\r\u001b[2K   \u001b[90m━━━━━━━━━━━━━━━━━━━━━━━━━━━━━━━━━━━━━━━━\u001b[0m \u001b[32m58.3/58.3 kB\u001b[0m \u001b[31m4.3 MB/s\u001b[0m eta \u001b[36m0:00:00\u001b[0m\n",
            "\u001b[?25h"
          ]
        }
      ]
    },
    {
      "cell_type": "code",
      "source": [
        "from openai import AzureOpenAI\n",
        "import os\n",
        "from datetime import datetime"
      ],
      "metadata": {
        "id": "I0NgY34fyH6u"
      },
      "execution_count": 2,
      "outputs": []
    },
    {
      "cell_type": "code",
      "source": [
        "client = AzureOpenAI(\n",
        "    azure_endpoint = \"https://dierckx.openai.azure.com/\",  # Replace with your Azure OpenAI endpoint\n",
        "    api_key = \"c785292059e7435c97beaf01aa6261c5\",  # Replace with your API key\n",
        "    api_version = \"2024-02-15-preview\"\n",
        ")"
      ],
      "metadata": {
        "id": "YM7iB3s5yM8M"
      },
      "execution_count": 3,
      "outputs": []
    },
    {
      "cell_type": "code",
      "source": [
        "message = [\n",
        "    {\"role\": \"system\", \"content\": \"You are an AI assistant that helps people find information.\"},\n",
        "    {\"role\": \"user\", \"content\": \"Please tell me about Stanford University and California State University, Sacramento.\"}\n",
        "]\n",
        "\n",
        "response = client.chat.completions.create(\n",
        "  model='gpt-4o', # model = \"deployment_name\"\n",
        "  messages = message,\n",
        "  temperature=0.7,\n",
        "  max_tokens=800,\n",
        "  top_p=0.95,\n",
        "  frequency_penalty=0,\n",
        "  presence_penalty=0,\n",
        "  stop=None\n",
        ")"
      ],
      "metadata": {
        "id": "q6fRntWqyM_T"
      },
      "execution_count": 7,
      "outputs": []
    },
    {
      "cell_type": "code",
      "source": [
        "print(response.choices[0].message.content)"
      ],
      "metadata": {
        "colab": {
          "base_uri": "https://localhost:8080/"
        },
        "id": "Cgf0clJqyNCG",
        "outputId": "1c5d31a2-5948-4bad-a771-bc2397d5fcfb"
      },
      "execution_count": 8,
      "outputs": [
        {
          "output_type": "stream",
          "name": "stdout",
          "text": [
            "Sure! Here's some information about both institutions:\n",
            "\n",
            "### Stanford University\n",
            "\n",
            "**Overview:**\n",
            "- **Location:** Stanford, California, approximately 35 miles south of San Francisco.\n",
            "- **Founded:** 1885 by Leland and Jane Stanford.\n",
            "- **Type:** Private research university.\n",
            "- **Campus Size:** 8,180 acres.\n",
            "- **Motto:** \"Die Luft der Freiheit weht\" (The wind of freedom blows).\n",
            "\n",
            "**Academics:**\n",
            "- **Colleges and Schools:** Seven schools including Humanities and Sciences, Engineering, Earth, Energy & Environmental Sciences, Education, Law, Medicine, and Business.\n",
            "- **Notable Programs:** Strong in fields such as computer science, engineering, business, and law.\n",
            "- **Research:** Known for its strong emphasis on research and innovation, with a significant number of faculty and alumni who are Nobel laureates, Turing Award winners, and other distinguished scholars.\n",
            "\n",
            "**Admissions:**\n",
            "- **Selectivity:** Highly competitive with a low acceptance rate.\n",
            "- **Undergraduate Enrollment:** Around 7,000.\n",
            "- **Graduate Enrollment:** About 9,000.\n",
            "\n",
            "**Campus Life:**\n",
            "- **Housing:** Guaranteed for first-year undergraduates and many upperclassmen.\n",
            "- **Extracurriculars:** Over 600 student organizations, including clubs, sports teams, and cultural groups.\n",
            "- **Athletics:** Competes in NCAA Division I as part of the Pac-12 Conference.\n",
            "\n",
            "**Notable Alumni:**\n",
            "- Includes U.S. presidents, Supreme Court justices, tech entrepreneurs, and leaders in various fields such as business, sports, and entertainment.\n",
            "\n",
            "### California State University, Sacramento (Sacramento State)\n",
            "\n",
            "**Overview:**\n",
            "- **Location:** Sacramento, California, the state capital.\n",
            "- **Founded:** 1947.\n",
            "- **Type:** Public university.\n",
            "- **Campus Size:** 300 acres.\n",
            "- **Motto:** \"Redefine the Possible.\"\n",
            "\n",
            "**Academics:**\n",
            "- **Colleges:** Eight colleges including Arts and Letters, Business Administration, Education, Engineering and Computer Science, Health and Human Services, Natural Sciences and Mathematics, Social Sciences and Interdisciplinary Studies, and Continuing Education.\n",
            "- **Notable Programs:** Known for strong programs in business, nursing, education, and public administration.\n",
            "- **Research:** Offers various research opportunities, though the focus is more on teaching and applied research compared to Stanford.\n",
            "\n",
            "**Admissions:**\n",
            "- **Selectivity:** Moderately selective.\n",
            "- **Undergraduate Enrollment:** Around 28,000.\n",
            "- **Graduate Enrollment:** Approximately 3,000.\n",
            "\n",
            "**Campus Life:**\n",
            "- **Housing:** On-campus housing available, though many students commute.\n",
            "- **Extracurriculars:** Over 300 student organizations, including academic clubs, cultural groups, and recreational activities.\n",
            "- **Athletics:** Competes in NCAA Division I as part of the Big Sky Conference.\n",
            "\n",
            "**Notable Alumni:**\n",
            "- Includes politicians, business leaders, educators, and athletes, particularly those who have made significant contributions to public service and community development.\n",
            "\n",
            "Both universities offer unique experiences and opportunities tailored to different types of students. Stanford is known for its elite academic standing and research capabilities, while Sacramento State provides a strong education with a focus on practical and applied learning experiences.\n"
          ]
        }
      ]
    }
  ]
}


llm = AzureChatOpenAI(
    model="gpt-4o",
    api_version="2023-03-15-preview",
    api_key="c785292059e7435c97beaf01aa6261c5",
    azure_endpoint="https://dierckx.openai.azure.com/",    
)

llm.predict("Who are you")
