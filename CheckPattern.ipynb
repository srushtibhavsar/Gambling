{
  "nbformat": 4,
  "nbformat_minor": 0,
  "metadata": {
    "colab": {
      "provenance": [],
      "gpuType": "V100",
      "authorship_tag": "ABX9TyNPMQkMxuUf+5+qZKaZzT5U",
      "include_colab_link": true
    },
    "kernelspec": {
      "name": "python3",
      "display_name": "Python 3"
    },
    "language_info": {
      "name": "python"
    },
    "accelerator": "GPU"
  },
  "cells": [
    {
      "cell_type": "markdown",
      "metadata": {
        "id": "view-in-github",
        "colab_type": "text"
      },
      "source": [
        "<a href=\"https://colab.research.google.com/github/srushtibhavsar/Gambling/blob/main/CheckPattern.ipynb\" target=\"_parent\"><img src=\"https://colab.research.google.com/assets/colab-badge.svg\" alt=\"Open In Colab\"/></a>"
      ]
    },
    {
      "cell_type": "code",
      "source": [
        "import re\n",
        "from transformers import pipeline\n",
        "from transformers import GPT2LMHeadModel, GPT2Tokenizer"
      ],
      "metadata": {
        "id": "mw6XgCjEdkN7"
      },
      "execution_count": 6,
      "outputs": []
    },
    {
      "cell_type": "code",
      "source": [
        "# Initialize the model\n",
        "#generator = pipeline('text-generation', model='gpt2')  # Replace 'gpt-2' with your model"
      ],
      "metadata": {
        "id": "OtKBLQ1OASuN"
      },
      "execution_count": 7,
      "outputs": []
    },
    {
      "cell_type": "code",
      "source": [
        "def check_response_syntax(response):\n",
        "    # Pattern to check\n",
        "    pattern = r\"\\d+ \\d+\\s*(\\\".*?(?<!\\\\)\\\")*\"\n",
        "    # This pattern does the following: e \\d+ \\d+ matches 'e' followed by two groups of digits, representing node IDs or similar identifiers.\n",
        "    # \\s* allows for any amount of whitespace after the numbers.\n",
        "    #(\\\".*?\\\")* allows for any number of sequences where content is enclosed in double quotes. This part assumes that the content inside the quotes can be anything until another double quote is reached, repeating this group zero or more times.\n",
        "    return re.fullmatch(pattern, response)\n"
      ],
      "metadata": {
        "id": "uLAKINQIASw6"
      },
      "execution_count": 8,
      "outputs": []
    },
    {
      "cell_type": "code",
      "source": [
        "def generate_text(prompt_text):\n",
        "    # Load pre-trained model tokenizer (vocabulary)\n",
        "    tokenizer = GPT2Tokenizer.from_pretrained('gpt2')\n",
        "\n",
        "    # Load pre-trained model\n",
        "    model = GPT2LMHeadModel.from_pretrained('gpt2')\n",
        "\n",
        "    # Encode context the generation is conditioned on\n",
        "    input_ids = tokenizer.encode(prompt_text, return_tensors='pt')\n",
        "\n",
        "    # Generate text until the output length (which includes the context length) reaches 50\n",
        "    output = model.generate(input_ids, max_length=500)\n",
        "\n",
        "    # Decode and print the output text\n",
        "    text_output = tokenizer.decode(output[0], skip_special_tokens=True)\n",
        "    return text_output\n"
      ],
      "metadata": {
        "id": "DsvLZeK2ASzt"
      },
      "execution_count": 9,
      "outputs": []
    },
    {
      "cell_type": "code",
      "source": [
        "def main():\n",
        "    prompt = \"t # 36\\ne 2 0 \\\"{'changeType': 'Add', 'type': 'reference', 'referenceTypeName': 'details'}\\\" \\\"{'changeType': 'Add', 'type': 'object', 'className': 'EAnnotation', 'attributes': {'id': '_LMTmx96tEei97MD7GK1RmA', 'source':'http:\\/\\/www.eclipse.org\\/emf\\/2002\\/GenModel','details':['org.eclipse.emf.ecore.impl.EStringToStringMapEntryImpl@6815742a (key: documentation, value: \\\\\\\\n\\\\\\\\t\\\\\\\\t\\\\\\\\t\\\\\\\\t\\\\\\\\t\\\\\\\\t\\\\\\\\t\\\\\\\\tSpecifies an expression to determine if\\\\\\\\n\\\\\\\\t\\\\\\\\t\\\\\\\\t\\\\\\\\t\\\\\\\\t\\\\\\\\t\\\\\\\\t\\\\\\\\tthe explosion will be applied to each\\\\\\\\n\\\\\\\\t\\\\\\\\t\\\\\\\\t\\\\\\\\t\\\\\\\\t\\\\\\\\t\\\\\\\\t\\\\\\\\tslice.\\\\\\\\n\\\\\\\\t\\\\\\\\t\\\\\\\\t\\\\\\\\t\\\\\\\\t\\\\\\\\t\\\\\\\\t)'],'eModelElement':'explosionExpression'}}\"\n",
        "    # Change to your specific prompt\n",
        "    max_attempts = 5  # Maximum number of attempts to get a correct response\n",
        "    attempts = 0\n",
        "\n",
        "    while attempts < max_attempts:\n",
        "        response = generate_text(prompt)\n",
        "        if check_response_syntax(response):\n",
        "            print(\"Received correct response:\", response)\n",
        "            break\n",
        "        else:\n",
        "            # Provide feedback to the model\n",
        "            print(\"Incorrect format. Please follow the pattern: <num> <num> {json}{json}{...}\")\n",
        "            print(\"Received response:\")\n",
        "            print(response)\n",
        "            # Append feedback to prompt and retry\n",
        "            prompt += \"\\nNote: Please follow the specified format: <num> <num> {json}{json}{...} closely.\"\n",
        "\n",
        "        attempts += 1\n",
        "\n",
        "    if attempts == max_attempts:\n",
        "        print(\"Failed to receive a correct response after maximum attempts.\")"
      ],
      "metadata": {
        "id": "_mz7LzygAS2J"
      },
      "execution_count": 14,
      "outputs": []
    },
    {
      "cell_type": "code",
      "source": [
        "prompt = \"t # 36\\ne 2 0 \\\"{'changeType': 'Add', 'type': 'reference', 'referenceTypeName': 'details'}\\\" \\\"{'changeType': 'Add', 'type': 'object', 'className': 'EAnnotation', 'attributes': {'id': '_LMTmx96tEei97MD7GK1RmA', 'source':'http:\\/\\/www.eclipse.org\\/emf\\/2002\\/GenModel','details':['org.eclipse.emf.ecore.impl.EStringToStringMapEntryImpl@6815742a (key: documentation, value: \\\\\\\\n\\\\\\\\t\\\\\\\\t\\\\\\\\t\\\\\\\\t\\\\\\\\t\\\\\\\\t\\\\\\\\t\\\\\\\\tSpecifies an expression to determine if\\\\\\\\n\\\\\\\\t\\\\\\\\t\\\\\\\\t\\\\\\\\t\\\\\\\\t\\\\\\\\t\\\\\\\\t\\\\\\\\tthe explosion will be applied to each\\\\\\\\n\\\\\\\\t\\\\\\\\t\\\\\\\\t\\\\\\\\t\\\\\\\\t\\\\\\\\t\\\\\\\\t\\\\\\\\tslice.\\\\\\\\n\\\\\\\\t\\\\\\\\t\\\\\\\\t\\\\\\\\t\\\\\\\\t\\\\\\\\t\\\\\\\\t)'],'eModelElement':'explosionExpression'}}\"\n",
        "print(generate_text(prompt))"
      ],
      "metadata": {
        "id": "Cib2U3jd0T6G",
        "colab": {
          "base_uri": "https://localhost:8080/"
        },
        "outputId": "c93be4e3-bd0a-463e-c69f-22e46d9aebdf"
      },
      "execution_count": 10,
      "outputs": [
        {
          "output_type": "stream",
          "name": "stderr",
          "text": [
            "The attention mask and the pad token id were not set. As a consequence, you may observe unexpected behavior. Please pass your input's `attention_mask` to obtain reliable results.\n",
            "Setting `pad_token_id` to `eos_token_id`:50256 for open-end generation.\n"
          ]
        },
        {
          "output_type": "stream",
          "name": "stdout",
          "text": [
            "t # 36\n",
            "e 2 0 \"{'changeType': 'Add', 'type':'reference','referenceTypeName': 'details'}\" \"{'changeType': 'Add', 'type': 'object', 'className': 'EAnnotation', 'attributes': {'id': '_LMTmx96tEei97MD7GK1RmA','source':'http:\\/\\/www.eclipse.org\\/emf\\/2002\\/GenModel','details':['org.eclipse.emf.ecore.impl.EStringToStringMapEntryImpl@6815742a (key: documentation, value: \\\\n\\\\t\\\\t\\\\t\\\\t\\\\t\\\\t\\\\t\\\\tSpecifies an expression to determine if\\\\n\\\\t\\\\t\\\\t\\\\t\\\\t\\\\t\\\\t\\\\tthe explosion will be applied to each\\\\n\\\\t\\\\t\\\\t\\\\t\\\\t\\\\t\\\\t\\\\tslice.\\\\n\\\\t\\\\t\\\\t\\\\t\\\\t\\\\t\\\\t)'],'eModelElement':'explosionExpression'}}\n",
            "\n",
            "e 2 0 {'name': 'EAnnotation', 'type': 'object', 'className': 'EAnnotation', 'attributes': {'id': '_LMTmx96tEei97MD7GK1RmA','source':'http:\\/\\/www.eclipse.org\\/emf\\/2002\\/GenModel','details':['org.eclipse.emf.ecore.impl.EStringToStringMapEntryImpl@6815742a (key: documentation, value: \\\\n\\\\t\\\\t\\\\t\\\\t\\\\t\\\\t\\\\t\\\\tSpecifies an expression to determine if\\\\n\\\\t\\\\t\\\\t\\\\t\\\\t\\\\t\\\\t\\\\t\\\\t\\\\t)'],'eModelElement':'explosionExpression'}}\n",
            "\n",
            "e 2 0 {'name': 'EAnnotation', 'type': 'object', 'className': 'EAnnotation', 'attributes': {'id': '_LMTmx96tEei97MD7GK1RmA','source':'http:\\/\\/www.eclipse.org\\/emf\\/2002\\/GenModel','details':['org.eclipse.emf\n"
          ]
        }
      ]
    },
    {
      "cell_type": "code",
      "source": [
        "main()"
      ],
      "metadata": {
        "id": "KQDzcM0VENQ2",
        "colab": {
          "base_uri": "https://localhost:8080/"
        },
        "outputId": "8a9d9344-9a26-4c35-c1cb-4552ba3edf12"
      },
      "execution_count": 15,
      "outputs": [
        {
          "output_type": "stream",
          "name": "stderr",
          "text": [
            "The attention mask and the pad token id were not set. As a consequence, you may observe unexpected behavior. Please pass your input's `attention_mask` to obtain reliable results.\n",
            "Setting `pad_token_id` to `eos_token_id`:50256 for open-end generation.\n"
          ]
        },
        {
          "output_type": "stream",
          "name": "stdout",
          "text": [
            "Incorrect format. Please follow the pattern: <num> <num> {json}{json}{...}\n",
            "Received response:\n",
            "t # 36\n",
            "e 2 0 \"{'changeType': 'Add', 'type':'reference','referenceTypeName': 'details'}\" \"{'changeType': 'Add', 'type': 'object', 'className': 'EAnnotation', 'attributes': {'id': '_LMTmx96tEei97MD7GK1RmA','source':'http:\\/\\/www.eclipse.org\\/emf\\/2002\\/GenModel','details':['org.eclipse.emf.ecore.impl.EStringToStringMapEntryImpl@6815742a (key: documentation, value: \\\\n\\\\t\\\\t\\\\t\\\\t\\\\t\\\\t\\\\t\\\\tSpecifies an expression to determine if\\\\n\\\\t\\\\t\\\\t\\\\t\\\\t\\\\t\\\\t\\\\tthe explosion will be applied to each\\\\n\\\\t\\\\t\\\\t\\\\t\\\\t\\\\t\\\\t\\\\tslice.\\\\n\\\\t\\\\t\\\\t\\\\t\\\\t\\\\t\\\\t)'],'eModelElement':'explosionExpression'}}\n",
            "\n",
            "e 2 0 {'name': 'EAnnotation', 'type': 'object', 'className': 'EAnnotation', 'attributes': {'id': '_LMTmx96tEei97MD7GK1RmA','source':'http:\\/\\/www.eclipse.org\\/emf\\/2002\\/GenModel','details':['org.eclipse.emf.ecore.impl.EStringToStringMapEntryImpl@6815742a (key: documentation, value: \\\\n\\\\t\\\\t\\\\t\\\\t\\\\t\\\\t\\\\t\\\\tSpecifies an expression to determine if\\\\n\\\\t\\\\t\\\\t\\\\t\\\\t\\\\t\\\\t\\\\t\\\\t\\\\t)'],'eModelElement':'explosionExpression'}}\n",
            "\n",
            "e 2 0 {'name': 'EAnnotation', 'type': 'object', 'className': 'EAnnotation', 'attributes': {'id': '_LMTmx96tEei97MD7GK1RmA','source':'http:\\/\\/www.eclipse.org\\/emf\\/2002\\/GenModel','details':['org.eclipse.emf\n"
          ]
        },
        {
          "output_type": "stream",
          "name": "stderr",
          "text": [
            "The attention mask and the pad token id were not set. As a consequence, you may observe unexpected behavior. Please pass your input's `attention_mask` to obtain reliable results.\n",
            "Setting `pad_token_id` to `eos_token_id`:50256 for open-end generation.\n"
          ]
        },
        {
          "output_type": "stream",
          "name": "stdout",
          "text": [
            "Incorrect format. Please follow the pattern: <num> <num> {json}{json}{...}\n",
            "Received response:\n",
            "t # 36\n",
            "e 2 0 \"{'changeType': 'Add', 'type':'reference','referenceTypeName': 'details'}\" \"{'changeType': 'Add', 'type': 'object', 'className': 'EAnnotation', 'attributes': {'id': '_LMTmx96tEei97MD7GK1RmA','source':'http:\\/\\/www.eclipse.org\\/emf\\/2002\\/GenModel','details':['org.eclipse.emf.ecore.impl.EStringToStringMapEntryImpl@6815742a (key: documentation, value: \\\\n\\\\t\\\\t\\\\t\\\\t\\\\t\\\\t\\\\t\\\\tSpecifies an expression to determine if\\\\n\\\\t\\\\t\\\\t\\\\t\\\\t\\\\t\\\\t\\\\tthe explosion will be applied to each\\\\n\\\\t\\\\t\\\\t\\\\t\\\\t\\\\t\\\\t\\\\tslice.\\\\n\\\\t\\\\t\\\\t\\\\t\\\\t\\\\t\\\\t)'],'eModelElement':'explosionExpression'}}\n",
            "Note: Please follow the specified format: <num> <num> {json}{json}{...} closely.\n",
            "\n",
            "The following example shows the following code:\n",
            "\n",
            "{ 'name': 'EAnnotation', 'type': 'Reference', 'className': 'EAnnotation', 'attributes': { 'id': '_LMTmx96tEei97MD7GK1RmA','source':'http:\\/\\/www.eclipse.org\\/emf\\/2002\\/GenModel','details':['org.eclipse.emf.ecore.impl.EStringToStringMapEntryImpl@6815742a (key: documentation, value: \\\\n\\\\t\\\\t\\\\t\\\\t\\\\t\\\\t\\\\t\\\\tSpecifies an expression to determine if\\\\n\\\\t\\\\t\\\\t\\\\t\\\\t\\\\t\\\\t\\\\t\\\\t\\\\t)'],'eModelElement':'explosionExpression'}}\n",
            "\n",
            "Note: Please follow the specified format: <num> <num> {json}{json}{...} closely.\n",
            "\n",
            "The following example shows the following code:\n",
            "\n",
            "{ 'name': 'EAnnotation', 'type': 'Reference', 'className': '\n"
          ]
        },
        {
          "output_type": "stream",
          "name": "stderr",
          "text": [
            "The attention mask and the pad token id were not set. As a consequence, you may observe unexpected behavior. Please pass your input's `attention_mask` to obtain reliable results.\n",
            "Setting `pad_token_id` to `eos_token_id`:50256 for open-end generation.\n"
          ]
        },
        {
          "output_type": "stream",
          "name": "stdout",
          "text": [
            "Incorrect format. Please follow the pattern: <num> <num> {json}{json}{...}\n",
            "Received response:\n",
            "t # 36\n",
            "e 2 0 \"{'changeType': 'Add', 'type':'reference','referenceTypeName': 'details'}\" \"{'changeType': 'Add', 'type': 'object', 'className': 'EAnnotation', 'attributes': {'id': '_LMTmx96tEei97MD7GK1RmA','source':'http:\\/\\/www.eclipse.org\\/emf\\/2002\\/GenModel','details':['org.eclipse.emf.ecore.impl.EStringToStringMapEntryImpl@6815742a (key: documentation, value: \\\\n\\\\t\\\\t\\\\t\\\\t\\\\t\\\\t\\\\t\\\\tSpecifies an expression to determine if\\\\n\\\\t\\\\t\\\\t\\\\t\\\\t\\\\t\\\\t\\\\tthe explosion will be applied to each\\\\n\\\\t\\\\t\\\\t\\\\t\\\\t\\\\t\\\\t\\\\tslice.\\\\n\\\\t\\\\t\\\\t\\\\t\\\\t\\\\t\\\\t)'],'eModelElement':'explosionExpression'}}\n",
            "Note: Please follow the specified format: <num> <num> {json}{json}{...} closely.\n",
            "Note: Please follow the specified format: <num> <num> {json}{json}{...} closely.\n",
            "Note: Please follow the specified format: <num> <num> {json}{json}{...} closely.\n",
            "Note: Please follow the specified format: <num> <num> {json}{json}{...} closely.\n",
            "Note: Please follow the specified format: <num> <num> {json}{json}{...} closely.\n",
            "Note: Please follow the specified format: <num> <num> {json}{json}{...} closely.\n",
            "Note: Please follow the specified format: <num> <num> {json}{json}{...} closely.\n",
            "Note: Please follow the specified format: <num> <num> {json}{json}{...} closely.\n",
            "Note: Please follow the specified format: <num> <num> {json}{json}{...} closely.\n",
            "Note: Please follow the specified format: <num> <num> {json}{json}{...} closely.\n",
            "Note: Please follow the specified format: <num> <num> {json}{json}{...}\n"
          ]
        },
        {
          "output_type": "stream",
          "name": "stderr",
          "text": [
            "The attention mask and the pad token id were not set. As a consequence, you may observe unexpected behavior. Please pass your input's `attention_mask` to obtain reliable results.\n",
            "Setting `pad_token_id` to `eos_token_id`:50256 for open-end generation.\n"
          ]
        },
        {
          "output_type": "stream",
          "name": "stdout",
          "text": [
            "Incorrect format. Please follow the pattern: <num> <num> {json}{json}{...}\n",
            "Received response:\n",
            "t # 36\n",
            "e 2 0 \"{'changeType': 'Add', 'type':'reference','referenceTypeName': 'details'}\" \"{'changeType': 'Add', 'type': 'object', 'className': 'EAnnotation', 'attributes': {'id': '_LMTmx96tEei97MD7GK1RmA','source':'http:\\/\\/www.eclipse.org\\/emf\\/2002\\/GenModel','details':['org.eclipse.emf.ecore.impl.EStringToStringMapEntryImpl@6815742a (key: documentation, value: \\\\n\\\\t\\\\t\\\\t\\\\t\\\\t\\\\t\\\\t\\\\tSpecifies an expression to determine if\\\\n\\\\t\\\\t\\\\t\\\\t\\\\t\\\\t\\\\t\\\\tthe explosion will be applied to each\\\\n\\\\t\\\\t\\\\t\\\\t\\\\t\\\\t\\\\t\\\\tslice.\\\\n\\\\t\\\\t\\\\t\\\\t\\\\t\\\\t\\\\t)'],'eModelElement':'explosionExpression'}}\n",
            "Note: Please follow the specified format: <num> <num> {json}{json}{...} closely.\n",
            "Note: Please follow the specified format: <num> <num> {json}{json}{...} closely.\n",
            "Note: Please follow the specified format: <num> <num> {json}{json}{...} closely.\n",
            "Note: Please follow the specified format: <num> <num> {json}{json}{...} closely.\n",
            "Note: Please follow the specified format: <num> <num> {json}{json}{...} closely.\n",
            "Note: Please follow the specified format: <num> <num> {json}{json}{...} closely.\n",
            "Note: Please follow the specified format: <num> <num> {json}{json}{...} closely.\n",
            "Note: Please follow the specified format: <num> <num> {json}{json}{...} closely.\n",
            "Note: Please follow the specified format: <num> <num> {json}{json}{...} closely.\n",
            "Note: Please follow the specified format: <num> <num> {json}{json}{...} closely.\n",
            "Note: Please follow the specified format: <num> <num> {json}{json}{...}\n"
          ]
        },
        {
          "output_type": "stream",
          "name": "stderr",
          "text": [
            "The attention mask and the pad token id were not set. As a consequence, you may observe unexpected behavior. Please pass your input's `attention_mask` to obtain reliable results.\n",
            "Setting `pad_token_id` to `eos_token_id`:50256 for open-end generation.\n"
          ]
        },
        {
          "output_type": "stream",
          "name": "stdout",
          "text": [
            "Incorrect format. Please follow the pattern: <num> <num> {json}{json}{...}\n",
            "Received response:\n",
            "t # 36\n",
            "e 2 0 \"{'changeType': 'Add', 'type':'reference','referenceTypeName': 'details'}\" \"{'changeType': 'Add', 'type': 'object', 'className': 'EAnnotation', 'attributes': {'id': '_LMTmx96tEei97MD7GK1RmA','source':'http:\\/\\/www.eclipse.org\\/emf\\/2002\\/GenModel','details':['org.eclipse.emf.ecore.impl.EStringToStringMapEntryImpl@6815742a (key: documentation, value: \\\\n\\\\t\\\\t\\\\t\\\\t\\\\t\\\\t\\\\t\\\\tSpecifies an expression to determine if\\\\n\\\\t\\\\t\\\\t\\\\t\\\\t\\\\t\\\\t\\\\tthe explosion will be applied to each\\\\n\\\\t\\\\t\\\\t\\\\t\\\\t\\\\t\\\\t\\\\tslice.\\\\n\\\\t\\\\t\\\\t\\\\t\\\\t\\\\t\\\\t)'],'eModelElement':'explosionExpression'}}\n",
            "Note: Please follow the specified format: <num> <num> {json}{json}{...} closely.\n",
            "Note: Please follow the specified format: <num> <num> {json}{json}{...} closely.\n",
            "Note: Please follow the specified format: <num> <num> {json}{json}{...} closely.\n",
            "Note: Please follow the specified format: <num> <num> {json}{json}{...} closely.\n",
            "Note: Please follow the specified format: <num> <num> {json}{json}{...} closely.\n",
            "Note: Please follow the specified format: <num> <num> {json}{json}{...} closely.\n",
            "Note: Please follow the specified format: <num> <num> {json}{json}{...} closely.\n",
            "Note: Please follow the specified format: <num> <num> {json}{json}{...} closely.\n",
            "Note: Please follow the specified format: <num> <num> {json}{json}{...} closely.\n",
            "Note: Please follow the specified format: <num> <num> {json}{json}{...} closely.\n",
            "Note: Please follow the specified format: <num> <num> {json}{json}{...}\n",
            "Failed to receive a correct response after maximum attempts.\n"
          ]
        }
      ]
    },
    {
      "cell_type": "code",
      "source": [],
      "metadata": {
        "id": "6cFB2QhsDzW-"
      },
      "execution_count": null,
      "outputs": []
    }
  ]
}