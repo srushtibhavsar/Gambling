{
  "nbformat": 4,
  "nbformat_minor": 0,
  "metadata": {
    "colab": {
      "provenance": [],
      "authorship_tag": "ABX9TyO5buM/GJvpbSUomGuNZTOx",
      "include_colab_link": true
    },
    "kernelspec": {
      "name": "python3",
      "display_name": "Python 3"
    },
    "language_info": {
      "name": "python"
    }
  },
  "cells": [
    {
      "cell_type": "markdown",
      "metadata": {
        "id": "view-in-github",
        "colab_type": "text"
      },
      "source": [
        "<a href=\"https://colab.research.google.com/github/srushtibhavsar/Gambling/blob/main/process_data.ipynb\" target=\"_parent\"><img src=\"https://colab.research.google.com/assets/colab-badge.svg\" alt=\"Open In Colab\"/></a>"
      ]
    },
    {
      "cell_type": "code",
      "source": [
        "! pip install jsonlines"
      ],
      "metadata": {
        "id": "epBjs9wzqhWC"
      },
      "execution_count": null,
      "outputs": []
    },
    {
      "cell_type": "code",
      "execution_count": null,
      "metadata": {
        "id": "nyoTHnmEqFMg"
      },
      "outputs": [],
      "source": [
        "import json\n",
        "import pandas as pd\n",
        "from datasets import Dataset, DatasetDict\n",
        "import jsonlines"
      ]
    },
    {
      "cell_type": "code",
      "source": [
        "# jsonl input and output paths\n",
        "jsonl_input_paths = \"/content/drive/MyDrive/HIWI/fine_tune_ds/fine_tune_ds/tools.buckminster!!org.eclipse.buckminster.rmap_model_rmap.ecore/finetune_training/dataset_dfs_edges.jsonl\",\n",
        "jsonl_output_path = \"/content/drive/MyDrive/HIWI/CleanedData/cleaned_dataset_dfs_edges.jsonl\"\n",
        "\n",
        "# Open the output JSONL file\n",
        "with open(jsonl_output_path, \"w\") as output_file:\n",
        "    json_writer = jsonlines.Writer(output_file)\n",
        "\n",
        "    for jsonl_input_path in jsonl_input_paths:\n",
        "        with open(jsonl_input_path, \"r\") as input_file:\n",
        "            json_reader = jsonlines.Reader(input_file)\n",
        "\n",
        "            for entry in json_reader:\n",
        "                try:\n",
        "                    # Combine prompt and completion into the desired format\n",
        "                    formatted_text = f\"<s>[INST] {entry['prompt']} [/INST] {entry['completion']} </s>\"\n",
        "\n",
        "                    # Write the formatted text as a JSONL line\n",
        "                    json_writer.write({\"text\": formatted_text})\n",
        "                except Exception as e:\n",
        "                    print(f\"Error parsing JSON in {jsonl_input_path}:\", entry, e)"
      ],
      "metadata": {
        "id": "J31SHN0RqGms"
      },
      "execution_count": null,
      "outputs": []
    },
    {
      "cell_type": "code",
      "source": [
        "# Read the cleaned JSONL file into a Pandas DataFrame\n",
        "df = pd.read_json(jsonl_output_path, lines=True)"
      ],
      "metadata": {
        "id": "LyT8runPqGpl"
      },
      "execution_count": null,
      "outputs": []
    },
    {
      "cell_type": "code",
      "source": [
        "df"
      ],
      "metadata": {
        "id": "_wK9bHCrqGtD"
      },
      "execution_count": null,
      "outputs": []
    }
  ]
}